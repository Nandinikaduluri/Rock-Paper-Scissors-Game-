{
 "cells": [
  {
   "cell_type": "code",
   "execution_count": 1,
   "id": "431168d5-c8c0-44db-9dbc-df4ef49571dc",
   "metadata": {},
   "outputs": [
    {
     "name": "stdout",
     "output_type": "stream",
     "text": [
      "Winning rules of the game ROCK PAPER SCISSORS are:\n",
      "Rock vs Paper -> Paper wins\n",
      "Rock vs Scissors -> Rock wins\n",
      "Paper vs Scissors -> Scissor wins\n",
      "\n",
      "Enter your choice:\n",
      " 1 - Rock\n",
      " 2 - Paper\n",
      " 3 - Scissors\n",
      "\n"
     ]
    },
    {
     "name": "stdin",
     "output_type": "stream",
     "text": [
      "Enter your choice:  3\n"
     ]
    },
    {
     "name": "stdout",
     "output_type": "stream",
     "text": [
      "User choice is:  Scissors\n",
      "Computer choice is:  Paper\n",
      "Scissors vs Paper\n",
      "<== User wins ==>\n"
     ]
    },
    {
     "name": "stdin",
     "output_type": "stream",
     "text": [
      "Do you want to play again? (Yes/No):  No\n"
     ]
    },
    {
     "name": "stdout",
     "output_type": "stream",
     "text": [
      "Thanks for playing!\n"
     ]
    }
   ],
   "source": [
    "import random \n",
    "\n",
    "print('Winning rules of the game ROCK PAPER SCISSORS are:\\n' \n",
    "      'Rock vs Paper -> Paper wins\\n' \n",
    "      'Rock vs Scissors -> Rock wins\\n' \n",
    "      'Paper vs Scissors -> Scissor wins\\n') \n",
    "\n",
    "while True: \n",
    "    print(\"Enter your choice:\\n 1 - Rock\\n 2 - Paper\\n 3 - Scissors\\n\") \n",
    "    choice = int(input(\"Enter your choice: \")) \n",
    "\n",
    "    while choice > 3 or choice < 1: \n",
    "        choice = int(input('Enter a valid choice please ☺: ')) \n",
    "\n",
    "    if choice == 1: \n",
    "        choice_name = 'Rock' \n",
    "    elif choice == 2: \n",
    "        choice_name = 'Paper' \n",
    "    else: \n",
    "        choice_name = 'Scissors' \n",
    "\n",
    "    print('User choice is: ', choice_name) \n",
    "\n",
    "    comp_choice = random.randint(1, 3) \n",
    "    while comp_choice == choice: \n",
    "        comp_choice = random.randint(1, 3) \n",
    "\n",
    "    if comp_choice == 1: \n",
    "        comp_choice_name = 'Rock' \n",
    "    elif comp_choice == 2: \n",
    "        comp_choice_name = 'Paper' \n",
    "    else: \n",
    "        comp_choice_name = 'Scissors' \n",
    "\n",
    "    print(\"Computer choice is: \", comp_choice_name) \n",
    "    print(choice_name, 'vs', comp_choice_name) \n",
    "\n",
    "    if choice == comp_choice: \n",
    "        result = 'DRAW' \n",
    "    elif (choice == 1 and comp_choice == 2) or (choice == 2 and comp_choice == 1): \n",
    "        result = 'Paper' \n",
    "    elif (choice == 1 and comp_choice == 3) or (choice == 3 and comp_choice == 1): \n",
    "        result = 'Rock' \n",
    "    elif (choice == 2 and comp_choice == 3) or (choice == 3 and comp_choice == 2): \n",
    "        result = 'Scissors' \n",
    "\n",
    "    if result == 'DRAW': \n",
    "        print(\"<== It's a tie ==>\") \n",
    "    elif result == choice_name: \n",
    "        print(\"<== User wins ==>\") \n",
    "    else: \n",
    "        print(\"<== Computer wins ==>\") \n",
    "\n",
    "    ans = input(\"Do you want to play again? (Yes/No): \").strip().lower() \n",
    "    if ans.startswith('n'):  # Corrected condition\n",
    "        break\n",
    "\n",
    "print(\"Thanks for playing!\")\n"
   ]
  },
  {
   "cell_type": "code",
   "execution_count": null,
   "id": "3c2785dd-4c9e-47b6-bf3e-eec517153605",
   "metadata": {},
   "outputs": [],
   "source": []
  }
 ],
 "metadata": {
  "kernelspec": {
   "display_name": "Python 3 (ipykernel)",
   "language": "python",
   "name": "python3"
  },
  "language_info": {
   "codemirror_mode": {
    "name": "ipython",
    "version": 3
   },
   "file_extension": ".py",
   "mimetype": "text/x-python",
   "name": "python",
   "nbconvert_exporter": "python",
   "pygments_lexer": "ipython3",
   "version": "3.11.7"
  }
 },
 "nbformat": 4,
 "nbformat_minor": 5
}
